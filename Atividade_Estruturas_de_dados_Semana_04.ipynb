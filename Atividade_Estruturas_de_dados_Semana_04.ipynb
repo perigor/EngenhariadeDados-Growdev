{
  "nbformat": 4,
  "nbformat_minor": 0,
  "metadata": {
    "colab": {
      "provenance": [],
      "include_colab_link": true
    },
    "kernelspec": {
      "name": "python3",
      "display_name": "Python 3"
    },
    "language_info": {
      "name": "python"
    }
  },
  "cells": [
    {
      "cell_type": "markdown",
      "metadata": {
        "id": "view-in-github",
        "colab_type": "text"
      },
      "source": [
        "<a href=\"https://colab.research.google.com/github/perigor/EngenhariadeDados-Growdev/blob/main/Atividade_Estruturas_de_dados_Semana_04.ipynb\" target=\"_parent\"><img src=\"https://colab.research.google.com/assets/colab-badge.svg\" alt=\"Open In Colab\"/></a>"
      ]
    },
    {
      "cell_type": "markdown",
      "source": [
        "![Growdev](https://www.growdev.com.br/assets/images/logo_growdev.png)"
      ],
      "metadata": {
        "id": "v8pFWwviib2C"
      }
    },
    {
      "cell_type": "markdown",
      "source": [
        "![Formação Engenharia de Dados](https://d335luupugsy2.cloudfront.net/cms/files/524558/1707226566/$occu5m8t1op)"
      ],
      "metadata": {
        "id": "6Tkl4_HxifXZ"
      }
    },
    {
      "cell_type": "markdown",
      "source": [
        "Este material tem como objetivo incentivar a prática dos conteúdos estudados até o momento, e a pesquisa. Tenha em consideração que o exercício foi pensado para incentivar a prática dos conteúdos estudados até então, porém aprender a pesquisar faz parte do processo de aprendizagem.\n",
        "\n",
        "Fique tranquilo, faça os exercícios com calma, e boa prática!\n"
      ],
      "metadata": {
        "id": "ty7Bzyl1i9bN"
      }
    },
    {
      "cell_type": "markdown",
      "source": [
        "#Orientações:\n",
        "\n",
        " - Faça uma copia deste arquivo\n",
        " - Após concluir os exercicios, suba seu exercicio para o GitHub e compartilhe o link no **google** Classroom\n"
      ],
      "metadata": {
        "id": "DU5-yCQwjx3V"
      }
    },
    {
      "cell_type": "markdown",
      "source": [
        "#Exercícios"
      ],
      "metadata": {
        "id": "EzT810tnlmfE"
      }
    },
    {
      "cell_type": "markdown",
      "source": [
        "#Listas"
      ],
      "metadata": {
        "id": "rDqBAimhSq_C"
      }
    },
    {
      "cell_type": "markdown",
      "source": [
        "Para esse exercicio você tera alguns desafios, separei eles em partes, vamos lá?\n",
        "\n",
        "1 - Crie uma lista com 100 números inteiros.\n",
        "- Pode ser uma sequência, ou caso queira se desafiar faça de números aleatorios.\n",
        "- Os dados não devem ser inseridos manualmente, utilize de um laço de repetição para adicionar os elementos a Lista.\n"
      ],
      "metadata": {
        "id": "GoGkz2n-SudC"
      }
    },
    {
      "cell_type": "code",
      "source": [
        "lista_numeros = list(range(101))\n",
        "\n",
        "print(lista_numeros)"
      ],
      "metadata": {
        "id": "lLYBJr0KSuJW",
        "colab": {
          "base_uri": "https://localhost:8080/"
        },
        "outputId": "5e636e0e-dc80-484d-9ed9-54af1f97590e"
      },
      "execution_count": 9,
      "outputs": [
        {
          "output_type": "stream",
          "name": "stdout",
          "text": [
            "[0, 1, 2, 3, 4, 5, 6, 7, 8, 9, 10, 11, 12, 13, 14, 15, 16, 17, 18, 19, 20, 21, 22, 23, 24, 25, 26, 27, 28, 29, 30, 31, 32, 33, 34, 35, 36, 37, 38, 39, 40, 41, 42, 43, 44, 45, 46, 47, 48, 49, 50, 51, 52, 53, 54, 55, 56, 57, 58, 59, 60, 61, 62, 63, 64, 65, 66, 67, 68, 69, 70, 71, 72, 73, 74, 75, 76, 77, 78, 79, 80, 81, 82, 83, 84, 85, 86, 87, 88, 89, 90, 91, 92, 93, 94, 95, 96, 97, 98, 99, 100]\n"
          ]
        }
      ]
    },
    {
      "cell_type": "markdown",
      "source": [
        "2 - Calcule e exiba a soma de todos os números da lista."
      ],
      "metadata": {
        "id": "LQ0SVqxyVTD5"
      }
    },
    {
      "cell_type": "code",
      "source": [
        "soma = sum(lista_numeros)\n",
        "\n",
        "print(\"Lista de números:\", lista_numeros)\n",
        "print(\"Soma de todos os números na lista:\", soma)"
      ],
      "metadata": {
        "id": "6HP8yU1bVS0F",
        "colab": {
          "base_uri": "https://localhost:8080/"
        },
        "outputId": "5803b634-70ef-491f-c97f-35af1fc72115"
      },
      "execution_count": 10,
      "outputs": [
        {
          "output_type": "stream",
          "name": "stdout",
          "text": [
            "Lista de números: [0, 1, 2, 3, 4, 5, 6, 7, 8, 9, 10, 11, 12, 13, 14, 15, 16, 17, 18, 19, 20, 21, 22, 23, 24, 25, 26, 27, 28, 29, 30, 31, 32, 33, 34, 35, 36, 37, 38, 39, 40, 41, 42, 43, 44, 45, 46, 47, 48, 49, 50, 51, 52, 53, 54, 55, 56, 57, 58, 59, 60, 61, 62, 63, 64, 65, 66, 67, 68, 69, 70, 71, 72, 73, 74, 75, 76, 77, 78, 79, 80, 81, 82, 83, 84, 85, 86, 87, 88, 89, 90, 91, 92, 93, 94, 95, 96, 97, 98, 99, 100]\n",
            "Soma de todos os números na lista: 5050\n"
          ]
        }
      ]
    },
    {
      "cell_type": "markdown",
      "source": [
        "3 - Exiba o maior e o menor número da lista."
      ],
      "metadata": {
        "id": "HYQGLklTTPMx"
      }
    },
    {
      "cell_type": "code",
      "source": [
        "maior_numero = max(lista_numeros)\n",
        "menor_numero = min(lista_numeros)\n",
        "\n",
        "print(\"Lista de números:\", lista_numeros)\n",
        "print(\"Maior número na lista:\", maior_numero)\n",
        "print(\"Menor número na lista:\", menor_numero)"
      ],
      "metadata": {
        "id": "q_UZx7EETT6S",
        "colab": {
          "base_uri": "https://localhost:8080/"
        },
        "outputId": "23ffb757-35d1-4307-dc4b-017072bd00c8"
      },
      "execution_count": 11,
      "outputs": [
        {
          "output_type": "stream",
          "name": "stdout",
          "text": [
            "Lista de números: [0, 1, 2, 3, 4, 5, 6, 7, 8, 9, 10, 11, 12, 13, 14, 15, 16, 17, 18, 19, 20, 21, 22, 23, 24, 25, 26, 27, 28, 29, 30, 31, 32, 33, 34, 35, 36, 37, 38, 39, 40, 41, 42, 43, 44, 45, 46, 47, 48, 49, 50, 51, 52, 53, 54, 55, 56, 57, 58, 59, 60, 61, 62, 63, 64, 65, 66, 67, 68, 69, 70, 71, 72, 73, 74, 75, 76, 77, 78, 79, 80, 81, 82, 83, 84, 85, 86, 87, 88, 89, 90, 91, 92, 93, 94, 95, 96, 97, 98, 99, 100]\n",
            "Maior número na lista: 100\n",
            "Menor número na lista: 0\n"
          ]
        }
      ]
    },
    {
      "cell_type": "markdown",
      "source": [
        "4 - Pesquise se o número 77 esta presente na lista e exiba:\n",
        "- Quantas vezes esse número aparece na lista\n",
        "- Se aparece em qual ou quais posições(Indice)."
      ],
      "metadata": {
        "id": "1iU6ZtRhVN9i"
      }
    },
    {
      "cell_type": "code",
      "source": [
        "# Verificando se o número 77 está presente na lista.\n",
        "if 77 in lista_numeros:\n",
        "    # Contando quantas vezes o número 77 aparece na lista.\n",
        "    qtd_vezes = lista_numeros.count(77)\n",
        "\n",
        "    # Encontrar as posições (índices) em que o número 77 aparece na lista.\n",
        "    posicoes = [indice for indice, valor in enumerate(lista_numeros) if valor == 77]\n",
        "\n",
        "    print(\"O número 77 está presente na lista.\")\n",
        "    print(\"Quantidade de vezes que o número 77 aparece na lista:\", qtd_vezes)\n",
        "    print(\"Posições (índices) em que o número 77 aparece na lista:\", posicoes)\n",
        "else:\n",
        "    print(\"O número 77 não está presente na lista.\")"
      ],
      "metadata": {
        "id": "OGVH4AoGWU2R",
        "colab": {
          "base_uri": "https://localhost:8080/"
        },
        "outputId": "06202879-c7cf-4b9b-c56f-4be2f62adb72"
      },
      "execution_count": 12,
      "outputs": [
        {
          "output_type": "stream",
          "name": "stdout",
          "text": [
            "O número 77 está presente na lista.\n",
            "Quantidade de vezes que o número 77 aparece na lista: 1\n",
            "Posições (índices) em que o número 77 aparece na lista: [77]\n"
          ]
        }
      ]
    },
    {
      "cell_type": "markdown",
      "source": [
        "5 - Ordene a lista de forma descendente e exiba."
      ],
      "metadata": {
        "id": "jrwycUMvWVSu"
      }
    },
    {
      "cell_type": "code",
      "source": [
        "lista_numeros.sort(reverse=True)\n",
        "\n",
        "print(\"Lista de números em ordem descendente:\", lista_numeros)"
      ],
      "metadata": {
        "id": "RvRpLp87e5CB",
        "colab": {
          "base_uri": "https://localhost:8080/"
        },
        "outputId": "8142fc1b-1ee1-4347-9cc4-a9516779d06e"
      },
      "execution_count": 13,
      "outputs": [
        {
          "output_type": "stream",
          "name": "stdout",
          "text": [
            "Lista de números em ordem descendente: [100, 99, 98, 97, 96, 95, 94, 93, 92, 91, 90, 89, 88, 87, 86, 85, 84, 83, 82, 81, 80, 79, 78, 77, 76, 75, 74, 73, 72, 71, 70, 69, 68, 67, 66, 65, 64, 63, 62, 61, 60, 59, 58, 57, 56, 55, 54, 53, 52, 51, 50, 49, 48, 47, 46, 45, 44, 43, 42, 41, 40, 39, 38, 37, 36, 35, 34, 33, 32, 31, 30, 29, 28, 27, 26, 25, 24, 23, 22, 21, 20, 19, 18, 17, 16, 15, 14, 13, 12, 11, 10, 9, 8, 7, 6, 5, 4, 3, 2, 1, 0]\n"
          ]
        }
      ]
    },
    {
      "cell_type": "markdown",
      "source": [
        "## Tuplas:"
      ],
      "metadata": {
        "id": "Be68CsC2OftE"
      }
    },
    {
      "cell_type": "markdown",
      "source": [
        "Crie uma tupla com os dias da semana e peça para o usuário digitar um número de 1 a 7. Exiba o dia correspondente."
      ],
      "metadata": {
        "id": "SQzRrAmq1SnR"
      }
    },
    {
      "cell_type": "code",
      "source": [
        "dias_semana = (\"Domingo\", \"Segunda-feira\", \"Terça-feira\", \"Quarta-feira\", \"Quinta-feira\", \"Sexta-feira\", \"Sábado\")\n",
        "\n",
        "# Solicitando ao usuário para digitar um número de 1 a 7.\n",
        "numero = int(input(\"Digite um número de 1 a 7: \"))\n",
        "\n",
        "# Verificando se o número está dentro do intervalo válido.\n",
        "if 1 <= numero <= 7:\n",
        "    # Exibir o dia correspondente ao número digitado.\n",
        "    dia_correspondente = dias_semana[numero - 1]\n",
        "    print(\"O dia correspondente ao número\", numero, \"é\", dia_correspondente)\n",
        "else:\n",
        "    print(\"Número inválido. Por favor, digite um número de 1 a 7.\")"
      ],
      "metadata": {
        "id": "7BqDEfeq1TZE",
        "colab": {
          "base_uri": "https://localhost:8080/"
        },
        "outputId": "dae8227a-5d54-49f4-d81f-ddfb846338c9"
      },
      "execution_count": 14,
      "outputs": [
        {
          "output_type": "stream",
          "name": "stdout",
          "text": [
            "Digite um número de 1 a 7: 3\n",
            "O dia correspondente ao número 3 é Terça-feira\n"
          ]
        }
      ]
    },
    {
      "cell_type": "markdown",
      "source": [
        "Crie duas tuplas com números inteiros e crie uma terceira tupla com a concatenação das duas."
      ],
      "metadata": {
        "id": "J9LW9fru7hv6"
      }
    },
    {
      "cell_type": "code",
      "source": [
        "\n",
        "tupla1 = (1, 2, 3)\n",
        "tupla2 = (4, 5, 6)\n",
        "\n",
        "\n",
        "tupla_concat = tupla1 + tupla2\n",
        "\n",
        "print(\"Tupla 1:\", tupla1)\n",
        "print(\"Tupla 2:\", tupla2)\n",
        "print(\"Tupla concatenada:\", tupla_concat)"
      ],
      "metadata": {
        "id": "J2pBsS-f7idJ",
        "colab": {
          "base_uri": "https://localhost:8080/"
        },
        "outputId": "58a66436-e350-4ba0-f6b2-f7debb8b8c74"
      },
      "execution_count": 15,
      "outputs": [
        {
          "output_type": "stream",
          "name": "stdout",
          "text": [
            "Tupla 1: (1, 2, 3)\n",
            "Tupla 2: (4, 5, 6)\n",
            "Tupla concatenada: (1, 2, 3, 4, 5, 6)\n"
          ]
        }
      ]
    },
    {
      "cell_type": "markdown",
      "source": [
        " Crie uma tupla com alguns elementos e remova um elemento específico."
      ],
      "metadata": {
        "id": "ytDz_SXB7o-8"
      }
    },
    {
      "cell_type": "code",
      "source": [
        "\n",
        "tupla_0l = (1, 2, 3, 4, 5)\n",
        "\n",
        "#Convertendo tupla em lista.\n",
        "lista_tupla = list(tupla_0l)\n",
        "\n",
        "#Removendo numero 3 da lista.\n",
        "lista_tupla.remove(3)\n",
        "\n",
        "#Convertendo lista para tupla.\n",
        "\n",
        "tupla_0l = tuple(lista_tupla)\n",
        "\n",
        "print(\"Tupla:\", tupla_0l)\n"
      ],
      "metadata": {
        "id": "QvIAx6HP7pbh",
        "colab": {
          "base_uri": "https://localhost:8080/"
        },
        "outputId": "cac7aef1-d2b5-45cb-e16b-4b25bd665b7a"
      },
      "execution_count": 27,
      "outputs": [
        {
          "output_type": "stream",
          "name": "stdout",
          "text": [
            "Tupla: (1, 2, 4, 5)\n"
          ]
        }
      ]
    },
    {
      "cell_type": "markdown",
      "source": [
        "#Sets"
      ],
      "metadata": {
        "id": "v_JM0Has1pPL"
      }
    },
    {
      "cell_type": "markdown",
      "source": [
        "Crie dois sets com cores diferentes e exiba na tela a união dos dois sets."
      ],
      "metadata": {
        "id": "Urrv-Y291roJ"
      }
    },
    {
      "cell_type": "code",
      "source": [
        "set_cores1 = {\"vermelho\", \"azul\", \"verde\"}\n",
        "set_cores2 = {\"amarelo\", \"roxo\", \"verde\"}\n",
        "\n",
        "\n",
        "print(\"União dos sets:\")\n",
        "print(set_cores1 | set_cores2)"
      ],
      "metadata": {
        "id": "FM4S-PEa1zSW",
        "colab": {
          "base_uri": "https://localhost:8080/"
        },
        "outputId": "9da38b7c-d2d4-436c-c2d0-7d6c343a27fa"
      },
      "execution_count": 29,
      "outputs": [
        {
          "output_type": "stream",
          "name": "stdout",
          "text": [
            "União dos sets:\n",
            "{'verde', 'amarelo', 'roxo', 'vermelho', 'azul'}\n"
          ]
        }
      ]
    },
    {
      "cell_type": "markdown",
      "source": [
        "Crie uma lista com alguns números repetidos. Converta essa lista em um set para remover as duplicatas e exiba o resultado."
      ],
      "metadata": {
        "id": "0q0tG4eG1zkL"
      }
    },
    {
      "cell_type": "code",
      "source": [
        "\n",
        "lista_numeros = [1, 2, 3, 4, 4, 5, 5, 6, 7, 7, 8, 9, 9]\n",
        "\n",
        "# Convertendo a lista em um set para remover as duplicatas.\n",
        "conjunto_numeros = set(lista_numeros)\n",
        "\n",
        "# Exibindo o resultado.\n",
        "print(\"Lista original:\", lista_numeros)\n",
        "print(\"Lista sem duplicatas:\", conjunto_numeros)"
      ],
      "metadata": {
        "id": "j4okoTWR2I_R",
        "colab": {
          "base_uri": "https://localhost:8080/"
        },
        "outputId": "30f87ba5-6474-4b63-f466-6caa19deca6b"
      },
      "execution_count": 30,
      "outputs": [
        {
          "output_type": "stream",
          "name": "stdout",
          "text": [
            "Lista original: [1, 2, 3, 4, 4, 5, 5, 6, 7, 7, 8, 9, 9]\n",
            "Lista sem duplicatas: {1, 2, 3, 4, 5, 6, 7, 8, 9}\n"
          ]
        }
      ]
    },
    {
      "cell_type": "markdown",
      "source": [
        "#Dicionários:"
      ],
      "metadata": {
        "id": "4MCBgr-k1fvU"
      }
    },
    {
      "cell_type": "markdown",
      "source": [
        " Crie um dicionário com os nomes de algumas frutas e suas respectivas cores. Exiba na tela somente as frutas que são vermelhas."
      ],
      "metadata": {
        "id": "0A-DeyIMPh4g"
      }
    },
    {
      "cell_type": "code",
      "source": [
        "frutas_cores = {\n",
        "    \"maçã\": \"vermelho\",\n",
        "    \"uva\": \"roxo\",\n",
        "    \"morango\": \"vermelho\",\n",
        "    \"banana\": \"amarelo\",\n",
        "    \"cereja\": \"vermelho\"\n",
        "}\n",
        "\n",
        "\n",
        "print(\"Frutas vermelhas:\")\n",
        "for fruta, cor in frutas_cores.items():\n",
        "    if cor == \"vermelho\":\n",
        "        print(fruta)"
      ],
      "metadata": {
        "id": "7jlD2DV4Pjom",
        "colab": {
          "base_uri": "https://localhost:8080/"
        },
        "outputId": "89c9f1b1-2135-4fb9-e812-c145f3b6c1ce"
      },
      "execution_count": 32,
      "outputs": [
        {
          "output_type": "stream",
          "name": "stdout",
          "text": [
            "Frutas vermelhas:\n",
            "maçã\n",
            "morango\n",
            "cereja\n"
          ]
        }
      ]
    },
    {
      "cell_type": "markdown",
      "source": [
        "Crie um dicionário com o nome e a idade de três pessoas. Busque por  um nome e exiba a idade correspondente."
      ],
      "metadata": {
        "id": "q-XV14A-PmSa"
      }
    },
    {
      "cell_type": "code",
      "source": [
        "pessoas = {\"Alice\": 30, \"Bob\": 25, \"Carol\": 35}\n",
        "\n",
        "nome = \"Bob\"\n",
        "\n",
        "print(\"A idade de\", nome, \"é\", pessoas.get(nome))"
      ],
      "metadata": {
        "id": "8rPH-lzG2gvh",
        "colab": {
          "base_uri": "https://localhost:8080/"
        },
        "outputId": "2754b9ad-54b2-451e-e989-8d8e521b1967"
      },
      "execution_count": 35,
      "outputs": [
        {
          "output_type": "stream",
          "name": "stdout",
          "text": [
            "A idade de Bob é 25\n"
          ]
        }
      ]
    },
    {
      "cell_type": "markdown",
      "source": [
        "Crie um dicionário com os nomes e idades de algumas pessoas. Peça para o usuário digitar um nome e sua nova idade, e atualize o dicionário com essa informação."
      ],
      "metadata": {
        "id": "yEn6q_MP5SdW"
      }
    },
    {
      "cell_type": "code",
      "source": [
        "pessoas = {\"Alice\": 30, \"Bob\": 25, \"Carol\": 35}\n",
        "\n",
        "nome = input(\"Digite o nome da pessoa: \")\n",
        "nova_idade = int(input(\"Digite a nova idade: \"))\n",
        "\n",
        "\n",
        "pessoas[nome] = nova_idade\n",
        "\n",
        "print(\"Dicionário de pessoas atualizado:\")\n",
        "print(pessoas)"
      ],
      "metadata": {
        "id": "H-RHnfMm5TcR",
        "colab": {
          "base_uri": "https://localhost:8080/"
        },
        "outputId": "93b2ed4a-f91f-4a5e-9978-c7fba79cedb6"
      },
      "execution_count": 36,
      "outputs": [
        {
          "output_type": "stream",
          "name": "stdout",
          "text": [
            "Digite o nome da pessoa: Carol\n",
            "Digite a nova idade: 37\n",
            "Dicionário de pessoas atualizado:\n",
            "{'Alice': 30, 'Bob': 25, 'Carol': 37}\n"
          ]
        }
      ]
    },
    {
      "cell_type": "markdown",
      "source": [
        "Desafio Dicionários:\n",
        "\n",
        "Busque o código desenvolvido para o exercicio abaixo e altere o algoritmo para:\n",
        "\n",
        " - Salvar o resultado da eleição em um dícionário.\n",
        "\n",
        "\n",
        "Exemplo de saida do dicionario: {\"Candidato 1\": 2, \"Candidato 2\": 2, \"Voto Nulo\": 0, \"Voto Branco\": 1}\n",
        "\n",
        "\n",
        "Este exercicio foi realizado na lista da semana passada, exercicio de número 4:"
      ],
      "metadata": {
        "id": "Jeelh1Xw2hab"
      }
    },
    {
      "cell_type": "markdown",
      "source": [
        "\n",
        "\"Em uma eleição presidencial existem dois candidatos. Os votos são informados através de códigos. Os dados utilizados para a contagem dos votos obedecem à seguinte codificação:\n",
        "\n",
        "1,2 = voto para os respectivos candidatos\n",
        "\n",
        "3 = voto nulo\n",
        "\n",
        "4 = voto em branco;\n",
        "\n",
        "Elabore um programa que leia o código de votação de 5 eleitores. Calcule e escreva: total de votos para cada candidato total de votos nulos total de votos em branco\""
      ],
      "metadata": {
        "id": "cDnoQXk83e5B"
      }
    },
    {
      "cell_type": "code",
      "source": [],
      "metadata": {
        "id": "kFf35aHfbtfU"
      },
      "execution_count": null,
      "outputs": []
    },
    {
      "cell_type": "markdown",
      "source": [
        "#Listas por Compreensão:"
      ],
      "metadata": {
        "id": "ffEKF4Kx5eQu"
      }
    },
    {
      "cell_type": "markdown",
      "source": [
        "Crie uma lista com os números Impares de 1 a 20 utilizando listas por compreensão."
      ],
      "metadata": {
        "id": "IrQvRhQM5oj6"
      }
    },
    {
      "cell_type": "code",
      "source": [
        "\n",
        "numeros_impares = [num for num in range(1, 21) if num % 2 != 0]\n",
        "\n",
        "print(numeros_impares)\n"
      ],
      "metadata": {
        "id": "lqgX2B6x5fLc",
        "colab": {
          "base_uri": "https://localhost:8080/"
        },
        "outputId": "140a4ba9-3956-4189-9c59-dda9602944cd"
      },
      "execution_count": 39,
      "outputs": [
        {
          "output_type": "stream",
          "name": "stdout",
          "text": [
            "[1, 3, 5, 7, 9, 11, 13, 15, 17, 19]\n"
          ]
        }
      ]
    },
    {
      "cell_type": "markdown",
      "source": [
        "Crie uma lista com as letras da frase \"Sou estudante de dados\", utilizando listas por compreensão."
      ],
      "metadata": {
        "id": "R2DKj08Z5tqJ"
      }
    },
    {
      "cell_type": "code",
      "source": [
        "frase = \"Sou estudante de dados\"\n",
        "\n",
        "letras = [letra for letra in frase if letra != ' ']\n",
        "\n",
        "print(letras)"
      ],
      "metadata": {
        "colab": {
          "base_uri": "https://localhost:8080/"
        },
        "id": "dK6c5uzwZfDi",
        "outputId": "6859e27c-71c0-4262-f574-4eade6ceb92a"
      },
      "execution_count": 41,
      "outputs": [
        {
          "output_type": "stream",
          "name": "stdout",
          "text": [
            "['S', 'o', 'u', 'e', 's', 't', 'u', 'd', 'a', 'n', 't', 'e', 'd', 'e', 'd', 'a', 'd', 'o', 's']\n"
          ]
        }
      ]
    }
  ]
}