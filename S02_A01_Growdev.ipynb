{
  "nbformat": 4,
  "nbformat_minor": 0,
  "metadata": {
    "colab": {
      "provenance": [],
      "authorship_tag": "ABX9TyMSjUOLfOoQJlQVVRclz12W",
      "include_colab_link": true
    },
    "kernelspec": {
      "name": "python3",
      "display_name": "Python 3"
    },
    "language_info": {
      "name": "python"
    }
  },
  "cells": [
    {
      "cell_type": "markdown",
      "metadata": {
        "id": "view-in-github",
        "colab_type": "text"
      },
      "source": [
        "<a href=\"https://colab.research.google.com/github/perigor/EngenhariadeDados-Growdev/blob/main/S02_A01_Growdev.ipynb\" target=\"_parent\"><img src=\"https://colab.research.google.com/assets/colab-badge.svg\" alt=\"Open In Colab\"/></a>"
      ]
    },
    {
      "cell_type": "markdown",
      "source": [
        "**1 -** Conversão de graus Celsius para Fahrenheit – Crie um programa que converta graus\n",
        "Celsius em Fahrenheit. A fórmula é a seguinte:\n",
        "\n",
        "F = 9/5 * C + 32 ou F = 1.8 * C + 32\n",
        "\n",
        "O programa deve solicitar ao usuário que insira uma temperatura em graus Celsius e, em\n",
        "seguida, exiba a temperatura convertida em Fahrenheit. Após construir esse programa,\n",
        "modifique-o para que converta graus Fahrenheit em graus Celsius."
      ],
      "metadata": {
        "id": "TgY9ioh1ynm5"
      }
    },
    {
      "cell_type": "code",
      "source": [
        "C = float(input('Insira a temperatura (Cº):'))\n",
        "F = 1.8 * C + 32\n",
        "\n",
        "print(f\"A temperatura é: {F} ºF.\")"
      ],
      "metadata": {
        "colab": {
          "base_uri": "https://localhost:8080/"
        },
        "id": "_rnJa61q6wk_",
        "outputId": "e7e36f1e-771d-4429-dc6d-c46c71d5a539"
      },
      "execution_count": 14,
      "outputs": [
        {
          "output_type": "stream",
          "name": "stdout",
          "text": [
            "Insira a temperatura (Cº):25\n",
            "A temperatura é: 77.0 ºF.\n"
          ]
        }
      ]
    },
    {
      "cell_type": "code",
      "source": [
        "F = float(input('Insira a temperatura (Fº):'))\n",
        "C = (F-32) / 1.8\n",
        "\n",
        "print(f\"A temperatura é: {C} ºC.\")"
      ],
      "metadata": {
        "colab": {
          "base_uri": "https://localhost:8080/"
        },
        "id": "kNmxArfH84T2",
        "outputId": "68b84505-1786-4186-a304-c5e08ed414c5"
      },
      "execution_count": 15,
      "outputs": [
        {
          "output_type": "stream",
          "name": "stdout",
          "text": [
            "Insira a temperatura (Fº):77\n",
            "A temperatura é: 25.0 ºC.\n"
          ]
        }
      ]
    },
    {
      "cell_type": "markdown",
      "source": [
        "**2 -** Escreva um programa que receba um número e escreva “Par” caso esse número seja par\n",
        "e escreva “Impar” caso esse número seja impar."
      ],
      "metadata": {
        "id": "5Reju6p7zrPH"
      }
    },
    {
      "cell_type": "code",
      "source": [
        "numero = int(input(\"Digite um número: \"))\n",
        "\n",
        "if numero % 2 == 0:\n",
        "  print(\"Esse número é par\")\n",
        "\n",
        "else:\n",
        "\n",
        "  print(\"Esse número é impar\")"
      ],
      "metadata": {
        "colab": {
          "base_uri": "https://localhost:8080/"
        },
        "id": "onXJ0BVNAOqE",
        "outputId": "635894b4-3d30-46da-9354-7fd1a20672ce"
      },
      "execution_count": 22,
      "outputs": [
        {
          "output_type": "stream",
          "name": "stdout",
          "text": [
            "Digite um número: 16\n",
            "Esse número é par\n"
          ]
        }
      ]
    },
    {
      "cell_type": "markdown",
      "source": [
        "3 - Escreva um programa que receba dois números, exiba as opções:\n",
        "1 - adição\n",
        "2 - subtração\n",
        "Então peça ao usuário para escolher uma das opções. Caso escolha a opção 1 o programa\n",
        "deve realizar a soma dos dois números lidos e exibir. Caso escolha a opção 2 o programa\n",
        "deve realizar a subtração dos dois números lidos e exibir.\n"
      ],
      "metadata": {
        "id": "Qf1wWuzuzrSc"
      }
    },
    {
      "cell_type": "code",
      "source": [
        "n1 = float(input(\"Digite o primeiro número: \"))\n",
        "n2 = float(input(\"Digite o segundo número: \"))\n",
        "\n",
        "opcao = input(\"Escolha a operação desejada:\\n1 - Adição\\n2 - Subtração\\n\")\n",
        "\n",
        "if opcao == '1':\n",
        "    resultado = n1 + n2\n",
        "    print(\"O resultado da adição é:\", resultado)\n",
        "elif opcao == '2':\n",
        "    resultado = n1 - n2\n",
        "    print(\"O resultado da subtração é:\", resultado)\n",
        "else:\n",
        "    print(\"Opção inválida. Por favor, escolha 1 para adição ou 2 para subtração.\")"
      ],
      "metadata": {
        "colab": {
          "base_uri": "https://localhost:8080/"
        },
        "id": "DgdNdpTWBsrs",
        "outputId": "469ce872-b700-4b8c-e832-67a68bed1821"
      },
      "execution_count": 24,
      "outputs": [
        {
          "output_type": "stream",
          "name": "stdout",
          "text": [
            "Digite o primeiro número: 15\n",
            "Digite o segundo número: 5\n",
            "Escolha a operação desejada:\n",
            "1 - Adição\n",
            "2 - Subtração\n",
            "2\n",
            "O resultado da subtração é: 10.0\n"
          ]
        }
      ]
    },
    {
      "cell_type": "markdown",
      "source": [
        "**4 -** Numa determinada escola, os critérios de aprovação são os seguintes:\n",
        "- O aluno deve ter, no máximo, 25% de faltas;\n",
        "- A nota final deve ser igual ou superior a 7,00.\n",
        "Construa um programa para ler as notas que um aluno tirou nos 4 bimestres, o número total\n",
        "de aulas e o número de faltas, mostrando ao final a situação do aluno como sendo\n",
        "“Aprovado”, “Reprovado por Faltas” e “Reprovado por média”, considerando que a\n",
        "reprovação por faltas se sobrepõe a reprovação por nota."
      ],
      "metadata": {
        "id": "_likafqNzrU_"
      }
    },
    {
      "cell_type": "code",
      "source": [
        "# Notas dos 4 bimestres\n",
        "nota_b1 = float(input(\"Digite a nota do 1º bimestre: \"))\n",
        "nota_b2 = float(input(\"Digite a nota do 2º bimestre: \"))\n",
        "nota_b3 = float(input(\"Digite a nota do 3º bimestre: \"))\n",
        "nota_b4 = float(input(\"Digite a nota do 4º bimestre: \"))\n",
        "\n",
        "# Média das notas\n",
        "media_notas = (nota_b1 + nota_b2 + nota_b3 + nota_b4) / 4\n",
        "print(f\"A média do aluno é: {media_notas}\")\n",
        "\n",
        "# Número total de aulas e o número de faltas\n",
        "num_aulas = int(input(\"Digite o número total de aulas: \"))\n",
        "num_faltas = int(input(\"Digite o número de faltas do aluno: \"))\n",
        "\n",
        "# Calculando de porcentagem de faltas\n",
        "porcentagem_faltas = (num_faltas / num_aulas) * 100\n",
        "print(f\"O aluno tem {porcentagem_faltas}% de faltas.\")\n",
        "\n",
        "# Verificando a situação do aluno\n",
        "if porcentagem_faltas > 25:\n",
        "    print(\"Reprovado por faltas\")\n",
        "elif media_notas >= 7:\n",
        "    print(\"Aprovado\")\n",
        "else:\n",
        "    print(\"Reprovado por média\")"
      ],
      "metadata": {
        "colab": {
          "base_uri": "https://localhost:8080/"
        },
        "id": "Zsej_TDoAO7w",
        "outputId": "dee2c411-e12e-42d7-8db4-8f9035871642"
      },
      "execution_count": 33,
      "outputs": [
        {
          "output_type": "stream",
          "name": "stdout",
          "text": [
            "Digite a nota do 1º bimestre: 8\n",
            "Digite a nota do 2º bimestre: 6\n",
            "Digite a nota do 3º bimestre: 10\n",
            "Digite a nota do 4º bimestre: 7\n",
            "A média do aluno é: 7.75\n",
            "Digite o número total de aulas: 100\n",
            "Digite o número de faltas do aluno: 65\n",
            "O aluno tem 65.0% de faltas.\n",
            "Reprovado por faltas\n"
          ]
        }
      ]
    },
    {
      "cell_type": "markdown",
      "source": [
        "**5 -** Após construir o programa anterior, crie mais duas versões dele para prever as seguintes\n",
        "situações:\n",
        "- Um aluno pode ficar em recuperação se possuir frequência suficiente (superior a\n",
        "75%) e média superior a 5 mas inferior a 7;\n",
        "- Caso um aluno reprove por média e faltas, sua situação deve ser “Reprovado por\n",
        "Média e Faltas” (ao invés de simplesmente “Reprovado por Faltas” como antes)."
      ],
      "metadata": {
        "id": "IB-SlgDqzrXt"
      }
    },
    {
      "cell_type": "code",
      "source": [
        "#RECUPERAÇÃO\n",
        "\n",
        "# Notas dos 4 bimestres\n",
        "nota_b1 = float(input(\"Digite a nota do 1º bimestre: \"))\n",
        "nota_b2 = float(input(\"Digite a nota do 2º bimestre: \"))\n",
        "nota_b3 = float(input(\"Digite a nota do 3º bimestre: \"))\n",
        "nota_b4 = float(input(\"Digite a nota do 4º bimestre: \"))\n",
        "\n",
        "# Média das notas\n",
        "media_notas = (nota_b1 + nota_b2 + nota_b3 + nota_b4) / 4\n",
        "print(f\"A média do aluno é: {media_notas}\")\n",
        "\n",
        "# Número total de aulas e o número de faltas\n",
        "num_aulas = int(input(\"Digite o número total de aulas: \"))\n",
        "num_faltas = int(input(\"Digite o número de faltas do aluno: \"))\n",
        "\n",
        "# Calculando de porcentagem de faltas\n",
        "porcentagem_faltas = (num_faltas / num_aulas) * 100\n",
        "print(f\"O aluno tem {porcentagem_faltas}% de faltas.\")\n",
        "\n",
        "# Verificando a situação do aluno\n",
        "if porcentagem_faltas > 25:\n",
        "    print(\"Reprovado por faltas\")\n",
        "elif media_notas >= 7:\n",
        "    print(\"Aprovado\")\n",
        "elif media_notas >= 5 and media_notas < 7 and porcentagem_faltas <= 75:\n",
        "    print(\"Recuperação\")\n",
        "else:\n",
        "    print(\"Reprovado por média\")"
      ],
      "metadata": {
        "colab": {
          "base_uri": "https://localhost:8080/"
        },
        "id": "7zpTDw8XKAs7",
        "outputId": "8375493a-a496-418c-d9b8-f83561fc37ac"
      },
      "execution_count": 38,
      "outputs": [
        {
          "output_type": "stream",
          "name": "stdout",
          "text": [
            "Digite a nota do 1º bimestre: 5\n",
            "Digite a nota do 2º bimestre: 5\n",
            "Digite a nota do 3º bimestre: 5\n",
            "Digite a nota do 4º bimestre: 7\n",
            "A média do aluno é: 5.5\n",
            "Digite o número total de aulas: 100\n",
            "Digite o número de faltas do aluno: 10\n",
            "O aluno tem 10.0% de faltas.\n",
            "Recuperação\n"
          ]
        }
      ]
    },
    {
      "cell_type": "code",
      "source": [
        "#REPROVADO POR MÉDIA E FALTAS\n",
        "\n",
        "# Notas dos 4 bimestres\n",
        "nota_b1 = float(input(\"Digite a nota do 1º bimestre: \"))\n",
        "nota_b2 = float(input(\"Digite a nota do 2º bimestre: \"))\n",
        "nota_b3 = float(input(\"Digite a nota do 3º bimestre: \"))\n",
        "nota_b4 = float(input(\"Digite a nota do 4º bimestre: \"))\n",
        "\n",
        "# Média das notas\n",
        "media_notas = (nota_b1 + nota_b2 + nota_b3 + nota_b4) / 4\n",
        "print(f\"A média do aluno é: {media_notas}\")\n",
        "\n",
        "# Número total de aulas e o número de faltas\n",
        "num_aulas = int(input(\"Digite o número total de aulas: \"))\n",
        "num_faltas = int(input(\"Digite o número de faltas do aluno: \"))\n",
        "\n",
        "# Calculando de porcentagem de faltas\n",
        "porcentagem_faltas = (num_faltas / num_aulas) * 100\n",
        "print(f\"O aluno tem {porcentagem_faltas}% de faltas.\")\n",
        "\n",
        "# Verificando a situação do aluno\n",
        "if porcentagem_faltas > 25 and media_notas < 7:\n",
        "    print(\"Reprovado por média e faltas\")\n",
        "elif porcentagem_faltas > 25:\n",
        "    print(\"Reprovado por faltas\")\n",
        "elif media_notas >= 7:\n",
        "    print(\"Aprovado\")\n",
        "else:\n",
        "    print(\"Reprovado por média\")"
      ],
      "metadata": {
        "colab": {
          "base_uri": "https://localhost:8080/"
        },
        "id": "dOxSnFopLpQY",
        "outputId": "37ce6cc1-6bc4-4da9-be27-759bd8ce22b5"
      },
      "execution_count": 39,
      "outputs": [
        {
          "output_type": "stream",
          "name": "stdout",
          "text": [
            "Digite a nota do 1º bimestre: 5\n",
            "Digite a nota do 2º bimestre: 5\n",
            "Digite a nota do 3º bimestre: 5\n",
            "Digite a nota do 4º bimestre: 5\n",
            "A média do aluno é: 5.0\n",
            "Digite o número total de aulas: 100\n",
            "Digite o número de faltas do aluno: 50\n",
            "O aluno tem 50.0% de faltas.\n",
            "Reprovado por média e faltas\n"
          ]
        }
      ]
    },
    {
      "cell_type": "markdown",
      "source": [
        "**6 -** Escreva um programa que peça ao usuário para fornecer um dia, mês e o ano arbitrários\n",
        "e determine se esses dados correspondem a uma data válida. Não deixe de considerar que\n",
        "existem meses com 30 e 31 dias, e que fevereiro pode ter 28 ou 29 dias, dependendo se o\n",
        "ano for bissexto. Considere que um ano é bissexto quando for divisível por 4."
      ],
      "metadata": {
        "id": "SYQi9x-l0hMx"
      }
    },
    {
      "cell_type": "code",
      "source": [
        "# Inserindo dia, mês e ano do usuário\n",
        "dia = int(input(\"Digite o dia: \"))\n",
        "mes = int(input(\"Digite o mês: \"))\n",
        "ano = int(input(\"Digite o ano: \"))\n",
        "\n",
        "# Verificando se o ano é bissexto\n",
        "if ano % 4 == 0 and (ano % 100 != 0 or ano % 400 == 0):\n",
        "    bissexto = True\n",
        "else:\n",
        "    bissexto = False\n",
        "\n",
        "# Verificando se a data é válida\n",
        "if mes < 1 or mes > 12:\n",
        "    print(\"Data inválida\")\n",
        "elif mes in [1, 3, 5, 7, 8, 10, 12]:\n",
        "    if dia < 1 or dia > 31:\n",
        "        print(\"Data inválida\")\n",
        "    else:\n",
        "        print(\"Data válida\")\n",
        "elif mes in [4, 6, 9, 11]:\n",
        "    if dia < 1 or dia > 30:\n",
        "        print(\"Data inválida\")\n",
        "    else:\n",
        "        print(\"Data válida\")\n",
        "elif mes == 2:\n",
        "    if bissexto:\n",
        "        if dia < 1 or dia > 29:\n",
        "            print(\"Data inválida\")\n",
        "        else:\n",
        "            print(\"Data válida\")\n",
        "    else:\n",
        "        if dia < 1 or dia > 28:\n",
        "            print(\"Data inválida\")\n",
        "        else:\n",
        "            print(\"Data válida\")"
      ],
      "metadata": {
        "colab": {
          "base_uri": "https://localhost:8080/"
        },
        "id": "JBH32Uc3AO41",
        "outputId": "43b62c77-d0e3-4527-bdb3-9bb96ae9c805"
      },
      "execution_count": 44,
      "outputs": [
        {
          "output_type": "stream",
          "name": "stdout",
          "text": [
            "Digite o dia: 29\n",
            "Digite o mês: 02\n",
            "Digite o ano: 2024\n",
            "Data válida\n"
          ]
        }
      ]
    },
    {
      "cell_type": "markdown",
      "source": [
        "**7-** Construa um programa que leia uma data qualquer (dia, mês e ano) e calcule a data do\n",
        "próximo dia. Lembre-se que em anos bissextos o mês de fevereiro tem 29 dias. Lembre-se\n",
        "que um ano é bissexto quando for divisível por 4."
      ],
      "metadata": {
        "id": "4cEi-i0_0hQS"
      }
    },
    {
      "cell_type": "code",
      "source": [
        "# Inserindo dia, mês e ano do usuário\n",
        "dia = int(input(\"Digite o dia: \"))\n",
        "mes = int(input(\"Digite o mês: \"))\n",
        "ano = int(input(\"Digite o ano: \"))\n",
        "\n",
        "# Verificando se o ano é bissexto\n",
        "if ano % 4 == 0 and (ano % 100 != 0 or ano % 400 == 0):\n",
        "    bissexto = True\n",
        "else:\n",
        "    bissexto = False\n",
        "\n",
        "# Verificando o número de dias no mês\n",
        "if mes in [1, 3, 5, 7, 8, 10, 12]:\n",
        "    num_dias_mes = 31\n",
        "elif mes in [4, 6, 9, 11]:\n",
        "    num_dias_mes = 30\n",
        "elif mes == 2:\n",
        "    if bissexto:\n",
        "        num_dias_mes = 29\n",
        "    else:\n",
        "        num_dias_mes = 28\n",
        "else:\n",
        "    print(\"Mês inválido\")\n",
        "    exit()\n",
        "\n",
        "# Verificando se o dia é válido\n",
        "if dia < 1 or dia > num_dias_mes:\n",
        "    print(\"Dia inválido\")\n",
        "    exit()\n",
        "\n",
        "# Calculando o próximo dia\n",
        "if dia == num_dias_mes:  # Se for o último dia do mês\n",
        "    dia = 1\n",
        "    if mes == 12:  # Se for o último dia do ano\n",
        "        mes = 1\n",
        "        ano += 1\n",
        "    else:\n",
        "        mes += 1\n",
        "else:\n",
        "    dia += 1\n",
        "\n",
        "# Imprimir a data do próximo dia\n",
        "print(f\"A data do próximo dia é: {dia}/{mes}/{ano}\")"
      ],
      "metadata": {
        "colab": {
          "base_uri": "https://localhost:8080/"
        },
        "id": "KCleSo2fP_yX",
        "outputId": "d6e98b59-7c5b-4f24-e61f-fa0a4053143b"
      },
      "execution_count": 2,
      "outputs": [
        {
          "output_type": "stream",
          "name": "stdout",
          "text": [
            "Digite o dia: 30\n",
            "Digite o mês: 13\n",
            "Digite o ano: 2020\n",
            "Mês inválido\n",
            "A data do próximo dia é: 31/13/2020\n"
          ]
        }
      ]
    },
    {
      "cell_type": "markdown",
      "source": [
        "8 - Faça um programa que leia as duas notas parciais obtidas por um aluno numa\n",
        "disciplina ao longo de um semestre, e calcule a sua média. A atribuição de conceitos\n",
        "obedece à tabela abaixo:\n",
        "Média de Aproveitamento\n",
        "- Entre 9.0 e 10.0 Conceito - A\n",
        "- Entre 7.5 e 8.9 - B\n",
        "- Entre 6.0 e 7.4 - C\n",
        "- Entre 4.0 e 5.9 - D\n",
        "- Entre 0 e 3.9 - E\n",
        "\n",
        "\n",
        "O programa deve mostrar na tela as notas, a média, o conceito correspondente e a\n",
        "mensagem:\n",
        "APROVADO se o conceito for A, B ou C.\n",
        "REPROVADO se o conceito for D ou E."
      ],
      "metadata": {
        "id": "UPu-iXad0hTa"
      }
    },
    {
      "cell_type": "code",
      "source": [
        "# Ler as duas notas do aluno\n",
        "n1 = float(input(\"Digite a primeira nota: \"))\n",
        "n2 = float(input(\"Digite a segunda nota: \"))\n",
        "\n",
        "# Calcular a média\n",
        "media = (n1 + n2) / 2\n",
        "\n",
        "# Determinar o conceito\n",
        "if media >= 9.0:\n",
        "    conceito = 'A'\n",
        "elif media >= 7.5:\n",
        "    conceito = 'B'\n",
        "elif media >= 6.0:\n",
        "    conceito = 'C'\n",
        "elif media >= 4.0:\n",
        "    conceito = 'D'\n",
        "else:\n",
        "    conceito = 'E'\n",
        "\n",
        "# Imprimir as notas, média, conceito e situação do aluno\n",
        "print(f\"Nota 1: {n1}\")\n",
        "print(f\"Nota 2: {n2}\")\n",
        "print(f\"Média: {media}\")\n",
        "print(f\"Conceito: {conceito}\")\n",
        "\n",
        "if conceito in ['A', 'B', 'C']:\n",
        "    print(\"APROVADO\")\n",
        "else:\n",
        "    print(\"REPROVADO\")\n"
      ],
      "metadata": {
        "colab": {
          "base_uri": "https://localhost:8080/"
        },
        "id": "iOY4qARyQ4kP",
        "outputId": "84008f5f-564b-4096-eae7-7efdaad34153"
      },
      "execution_count": 1,
      "outputs": [
        {
          "output_type": "stream",
          "name": "stdout",
          "text": [
            "Digite a primeira nota: 6\n",
            "Digite a segunda nota: 4\n",
            "Nota 1: 6.0\n",
            "Nota 2: 4.0\n",
            "Média: 5.0\n",
            "Conceito: D\n",
            "REPROVADO\n"
          ]
        }
      ]
    },
    {
      "cell_type": "markdown",
      "source": [
        "9 - As Organizações XTC resolveram dar um aumento de salário aos seus colaboradores e\n",
        "lhe contrataram para desenvolver o programa que calcula os reajustes. Faça um programa\n",
        "que recebe o salário de um colaborador e o reajuste segundo o seguinte critério, baseado\n",
        "no salário atual:\n",
        "\n",
        "- salários até RS 280,00 (incluindo): aumento de 20(%);\n",
        "\n",
        "- salários entre RS 280,00 e RS 700,00: aumento de 15(%);\n",
        "\n",
        "- salários entre RS 700,00 e RS 1500,00: aumento de 10(%);\n",
        "\n",
        "- salários de RS 1500,00 em diante: aumento de 5%.\n",
        "\n",
        "Após o aumento ser realizado informe na tela:\n",
        "- o salário antes do reajuste;\n",
        "- o percentual de aumento aplicado;\n",
        "- o valor do aumento;\n",
        "- o novo salário, após o aumento."
      ],
      "metadata": {
        "id": "MWgcmcza0hWi"
      }
    },
    {
      "cell_type": "code",
      "execution_count": 3,
      "metadata": {
        "id": "0V_VLRGJyhnZ",
        "colab": {
          "base_uri": "https://localhost:8080/"
        },
        "outputId": "c2b314e2-654d-4dcf-b2b8-5163ebc6c933"
      },
      "outputs": [
        {
          "output_type": "stream",
          "name": "stdout",
          "text": [
            "Digite o salário do colaborador: 280\n",
            "Salário antes do reajuste: R$ 280.00\n",
            "Percentual de aumento aplicado: 20%\n",
            "Valor do aumento: R$ 56.00\n",
            "Novo salário, após o aumento: R$ 336.00\n"
          ]
        }
      ],
      "source": [
        "# Inserido o salário do colaborador\n",
        "salario_atual = float(input(\"Digite o salário do colaborador: \"))\n",
        "\n",
        "# Determinando o percentual de aumento e o novo salário\n",
        "if salario_atual <= 280.00:\n",
        "    percentual_aumento = 20\n",
        "elif salario_atual <= 700.00:\n",
        "    percentual_aumento = 15\n",
        "elif salario_atual <= 1500.00:\n",
        "    percentual_aumento = 10\n",
        "else:\n",
        "    percentual_aumento = 5\n",
        "\n",
        "aumento = salario_atual * (percentual_aumento / 100)\n",
        "novo_salario = salario_atual + aumento\n",
        "\n",
        "# Printando as informações\n",
        "print(f\"Salário antes do reajuste: R$ {salario_atual:.2f}\")\n",
        "print(f\"Percentual de aumento aplicado: {percentual_aumento}%\")\n",
        "print(f\"Valor do aumento: R$ {aumento:.2f}\")\n",
        "print(f\"Novo salário, após o aumento: R$ {novo_salario:.2f}\")"
      ]
    },
    {
      "cell_type": "markdown",
      "source": [],
      "metadata": {
        "id": "Y_t1Cyw40hc5"
      }
    }
  ]
}