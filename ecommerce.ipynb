{
 "cells": [
  {
   "cell_type": "markdown",
   "metadata": {},
   "source": [
    "* Importando bibliotecas"
   ]
  },
  {
   "cell_type": "code",
   "execution_count": 13,
   "metadata": {},
   "outputs": [],
   "source": [
    "import psycopg2\n",
    "import random\n",
    "from datetime import datetime, timedelta"
   ]
  },
  {
   "cell_type": "code",
   "execution_count": 14,
   "metadata": {},
   "outputs": [],
   "source": [
    "# Configurações de conexão\n",
    "conn = psycopg2.connect(\n",
    "    dbname='postgres',\n",
    "    user='postgres',\n",
    "    password='postgres',\n",
    "    host='localhost',\n",
    "    port='5432'\n",
    ")\n",
    "\n",
    "cur = conn.cursor()"
   ]
  },
  {
   "cell_type": "markdown",
   "metadata": {},
   "source": [
    "Função para gerar dados aleatórios"
   ]
  },
  {
   "cell_type": "code",
   "execution_count": 15,
   "metadata": {},
   "outputs": [],
   "source": [
    "def random_date(start, end):\n",
    "    return start + timedelta(\n",
    "        seconds=random.randint(0, int((end - start).total_seconds())),\n",
    "    )"
   ]
  },
  {
   "cell_type": "markdown",
   "metadata": {},
   "source": [
    " Inserir Dados na Tabela Clientes"
   ]
  },
  {
   "cell_type": "code",
   "execution_count": 16,
   "metadata": {},
   "outputs": [],
   "source": [
    "# Insira 10.000 registros na tabela Clientes:\n",
    "\n",
    "try:\n",
    "    for i in range(10000):\n",
    "        nome = f'Cliente_{i}'\n",
    "        endereco = f'Endereco_{i}'\n",
    "        telefone = f'123456789{i}'\n",
    "        email = f'cliente_{i}@exemplo.com'\n",
    "        data_nascimento = random_date(datetime(1950, 1, 1), datetime(2000, 1, 1)).date()\n",
    "        cur.execute(\"INSERT INTO Clientes (Nome, Endereco, Telefone, Email, Data_Nascimento) VALUES (%s, %s, %s, %s, %s)\",\n",
    "                    (nome, endereco, telefone, email, data_nascimento))\n",
    "    conn.commit()\n",
    "except Exception as e:\n",
    "    print(f\"Erro ao inserir dados na tabela Clientes: {e}\")\n",
    "    conn.rollback()"
   ]
  },
  {
   "cell_type": "markdown",
   "metadata": {},
   "source": [
    "Inserir dados na tabela Produtos"
   ]
  },
  {
   "cell_type": "code",
   "execution_count": 17,
   "metadata": {},
   "outputs": [],
   "source": [
    "try:\n",
    "    for i in range(10000):\n",
    "        nome = f'Produto_{i}'\n",
    "        descricao = f'Descricao_{i}'\n",
    "        preco = round(random.uniform(1.00, 1000.00), 2)\n",
    "        estoque = random.randint(1, 100)\n",
    "        categoria = f'Categoria_{i % 10}'\n",
    "        cur.execute(\"INSERT INTO Produtos (Nome, Descricao, Preco, Estoque, Categoria) VALUES (%s, %s, %s, %s, %s)\",\n",
    "                    (nome, descricao, preco, estoque, categoria))\n",
    "    conn.commit()\n",
    "except Exception as e:\n",
    "    print(f\"Erro ao inserir dados na tabela Produtos: {e}\")\n",
    "    conn.rollback()"
   ]
  },
  {
   "cell_type": "markdown",
   "metadata": {},
   "source": [
    "Inserir dados na tabela Pedidos e Itens_Pedido"
   ]
  },
  {
   "cell_type": "code",
   "execution_count": 18,
   "metadata": {},
   "outputs": [],
   "source": [
    "try:\n",
    "    for i in range(10000):\n",
    "        data_pedido = random_date(datetime(2023, 1, 1), datetime(2024, 1, 1))\n",
    "        status = 'Concluído'\n",
    "        valor_total = round(random.uniform(10.00, 5000.00), 2)\n",
    "        id_cliente = random.randint(1, 10000)\n",
    "        cur.execute(\"INSERT INTO Pedidos (Data_Pedido, Status, Valor_Total, ID_Cliente) VALUES (%s, %s, %s, %s) RETURNING ID_Pedido\",\n",
    "                    (data_pedido, status, valor_total, id_cliente))\n",
    "        id_pedido = cur.fetchone()[0]\n",
    "\n",
    "        for j in range(random.randint(1, 5)):\n",
    "            quantidade = random.randint(1, 10)\n",
    "            preco_unitario = round(random.uniform(1.00, 1000.00), 2)\n",
    "            subtotal = round(quantidade * preco_unitario, 2)\n",
    "            id_produto = random.randint(1, 10000)\n",
    "            cur.execute(\"INSERT INTO Itens_Pedido (Quantidade, Preco_Unitario, Subtotal, ID_Pedido, ID_Produto) VALUES (%s, %s, %s, %s, %s)\",\n",
    "                        (quantidade, preco_unitario, subtotal, id_pedido, id_produto))\n",
    "    conn.commit()\n",
    "except Exception as e:\n",
    "    print(f\"Erro ao inserir dados nas tabelas Pedidos e Itens_Pedido: {e}\")\n",
    "    conn.rollback()"
   ]
  },
  {
   "cell_type": "markdown",
   "metadata": {},
   "source": [
    "Inserir dados na tabela Pagamentos"
   ]
  },
  {
   "cell_type": "code",
   "execution_count": 19,
   "metadata": {},
   "outputs": [],
   "source": [
    "try:\n",
    "    for i in range(10000):\n",
    "        data_pagamento = random_date(datetime(2023, 1, 1), datetime(2024, 1, 1))\n",
    "        valor_pago = round(random.uniform(10.00, 5000.00), 2)\n",
    "        metodo_pagamento = random.choice(['Cartão de Crédito', 'Boleto', 'PIX'])\n",
    "        id_pedido = random.randint(1, 10000)\n",
    "        cur.execute(\"INSERT INTO Pagamentos (Data_Pagamento, Valor_Pago, Metodo_Pagamento, ID_Pedido) VALUES (%s, %s, %s, %s)\",\n",
    "                    (data_pagamento, valor_pago, metodo_pagamento, id_pedido))\n",
    "    conn.commit()\n",
    "except Exception as e:\n",
    "    print(f\"Erro ao inserir dados na tabela Pagamentos: {e}\")\n",
    "    conn.rollback()"
   ]
  },
  {
   "cell_type": "markdown",
   "metadata": {},
   "source": []
  }
 ],
 "metadata": {
  "kernelspec": {
   "display_name": "Python 3",
   "language": "python",
   "name": "python3"
  },
  "language_info": {
   "codemirror_mode": {
    "name": "ipython",
    "version": 3
   },
   "file_extension": ".py",
   "mimetype": "text/x-python",
   "name": "python",
   "nbconvert_exporter": "python",
   "pygments_lexer": "ipython3",
   "version": "3.12.1"
  }
 },
 "nbformat": 4,
 "nbformat_minor": 2
}
