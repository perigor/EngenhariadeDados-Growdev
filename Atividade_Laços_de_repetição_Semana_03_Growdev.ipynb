{
  "nbformat": 4,
  "nbformat_minor": 0,
  "metadata": {
    "colab": {
      "provenance": [],
      "include_colab_link": true
    },
    "kernelspec": {
      "name": "python3",
      "display_name": "Python 3"
    },
    "language_info": {
      "name": "python"
    }
  },
  "cells": [
    {
      "cell_type": "markdown",
      "metadata": {
        "id": "view-in-github",
        "colab_type": "text"
      },
      "source": [
        "<a href=\"https://colab.research.google.com/github/perigor/EngenhariadeDados-Growdev/blob/main/Atividade_La%C3%A7os_de_repeti%C3%A7%C3%A3o_Semana_03_Growdev.ipynb\" target=\"_parent\"><img src=\"https://colab.research.google.com/assets/colab-badge.svg\" alt=\"Open In Colab\"/></a>"
      ]
    },
    {
      "cell_type": "markdown",
      "source": [
        "![Growdev](https://www.growdev.com.br/assets/images/logo_growdev.png)"
      ],
      "metadata": {
        "id": "v8pFWwviib2C"
      }
    },
    {
      "cell_type": "markdown",
      "source": [
        "![Formação Engenharia de Dados](https://d335luupugsy2.cloudfront.net/cms/files/524558/1707226566/$occu5m8t1op)"
      ],
      "metadata": {
        "id": "6Tkl4_HxifXZ"
      }
    },
    {
      "cell_type": "markdown",
      "source": [
        "Este material tem como objetivo incentivar a prática dos conteúdos estudados até o momento, e a pesquisa. Tenha em consideração que o exercício foi pensado para incentivar a prática dos conteúdos estudados até então, porém aprender a pesquisar faz parte do processo de aprendizagem.\n",
        "\n",
        "Fique tranquilo, faça os exercícios com calma, e boa prática!\n"
      ],
      "metadata": {
        "id": "ty7Bzyl1i9bN"
      }
    },
    {
      "cell_type": "markdown",
      "source": [
        "#Orientações:\n",
        "\n",
        " - Faça uma copia deste arquivo\n",
        " - Após concluir os exercicios, suba seu exercicio para o GitHub e compartilhe o link no **google** Classroom\n"
      ],
      "metadata": {
        "id": "DU5-yCQwjx3V"
      }
    },
    {
      "cell_type": "markdown",
      "source": [
        "#Exercícios"
      ],
      "metadata": {
        "id": "EzT810tnlmfE"
      }
    },
    {
      "cell_type": "markdown",
      "source": [
        "\n",
        "1- Escrever um programa que lê 5 valores para a, um de cada vez, e conta quantos destes valores são negativos, escrevendo esta informação."
      ],
      "metadata": {
        "id": "p62-CTXgvn5E"
      }
    },
    {
      "cell_type": "code",
      "source": [
        "# Criando uma variável para contagem de números negativos\n",
        "\n",
        "contagem_negativos = 0\n",
        "\n",
        "# Inicializando o contador do loop. (\"i\" para contar quantos valores já foram lidos.)\n",
        "i = 0\n",
        "\n",
        "# Loop para ler os 5 valores.\n",
        "# Garante que o programa continue pedindo valores até que tenhamos lido os 5 valores solicitados.\n",
        "\n",
        "while i < 5:\n",
        "    # Solicitando ao usuário para inserir o valor.\n",
        "    valor = float(input(f\"Insira o {i+1}º valor: \"))\n",
        "\n",
        "    # Verificando se o valor é negativo.\n",
        "    if valor < 0:\n",
        "        # Se for negativo, incrementa a contagem.\n",
        "        contagem_negativos += 1\n",
        "\n",
        "    # Incrementando o contador do loop.\n",
        "    i += 1\n",
        "\n",
        "# Exibindo a informação sobre quantos valores são negativos.\n",
        "print(f\"Você inseriu {contagem_negativos} valor(es) negativo(s).\")\n"
      ],
      "metadata": {
        "id": "gU8NkXNYvmZv",
        "colab": {
          "base_uri": "https://localhost:8080/"
        },
        "outputId": "695d536e-0fb9-42dc-a1dc-cd2e23a6205e"
      },
      "execution_count": 5,
      "outputs": [
        {
          "output_type": "stream",
          "name": "stdout",
          "text": [
            "Insira o 1º valor: -1\n",
            "Insira o 2º valor: 2\n",
            "Insira o 3º valor: 3\n",
            "Insira o 4º valor: 4\n",
            "Insira o 5º valor: -5\n",
            "Você inseriu 2 valor(es) negativo(s).\n"
          ]
        }
      ]
    },
    {
      "cell_type": "markdown",
      "source": [],
      "metadata": {
        "id": "_ST1Z4wkjMzJ"
      }
    },
    {
      "cell_type": "markdown",
      "source": [
        "2 - A prefeitura de uma cidade fez uma pesquisa entre seus habitantes, coletando dados sobre o salário e número de filhos. A prefeitura deseja saber:\n",
        "\n",
        "a) média do salário da população;\n",
        "\n",
        "b) média do número de filhos;\n",
        "\n",
        "c) maior salário;\n",
        "\n",
        "d) percentual de pessoas com salário até R$2000,00.\n",
        "\n",
        "Escreva um programa que receba as informações necessárias de 5 pessoas conforme a descrição e responda às questões a, b, c e d anteriores.\n"
      ],
      "metadata": {
        "id": "59g_B9yRvqYS"
      }
    },
    {
      "cell_type": "code",
      "source": [
        "# Inicialização das variáveis.\n",
        "soma_salarios = 0\n",
        "soma_filhos = 0\n",
        "maior_salario = 0\n",
        "contagem_salario_ate_2000 = 0\n",
        "contador_pessoas = 0\n",
        "\n",
        "# Loop para coletar informações de 5 pessoas.\n",
        "# Solicitação de informações.\n",
        "while contador_pessoas < 5:\n",
        "    salario = float(input(f\"Informe o salário da {contador_pessoas+1}ª pessoa: \"))\n",
        "    numero_filhos = int(input(f\"Informe o número de filhos da {contador_pessoas+1}ª pessoa: \"))\n",
        "\n",
        "    # Somando do salário e do número de filhos para cálculo das médias.\n",
        "    soma_salarios += salario\n",
        "    soma_filhos += numero_filhos\n",
        "\n",
        "    # Verificando o maior salário.\n",
        "    if salario > maior_salario:\n",
        "        maior_salario = salario\n",
        "\n",
        "    # Verifica se o salário é até R$2000,00.\n",
        "    if salario <= 2000:\n",
        "        contagem_salario_ate_2000 += 1\n",
        "\n",
        "    # Incrementando o contador de pessoas.\n",
        "    contador_pessoas += 1\n",
        "\n",
        "# Cálculando as médias.\n",
        "media_salario = soma_salarios / 5\n",
        "media_filhos = soma_filhos / 5\n",
        "\n",
        "# Cálculo do percentual de pessoas com salário até R$2000,00.\n",
        "percentual_salario_ate_2000 = (contagem_salario_ate_2000 / 5) * 100\n",
        "\n",
        "# Exibição dos resultados\n",
        "print(f\"Média do salário da população: R${media_salario:.2f}\")\n",
        "print(f\"Média do número de filhos: {media_filhos:.2f}\")\n",
        "print(f\"Maior salário: R${maior_salario:.2f}\")\n",
        "print(f\"Percentual de pessoas com salário até R$2000,00: {percentual_salario_ate_2000:.2f}%\")\n"
      ],
      "metadata": {
        "id": "hz6OkEJBv52O",
        "colab": {
          "base_uri": "https://localhost:8080/"
        },
        "outputId": "e406e80e-a813-43bd-c997-c6dc8eee2e19"
      },
      "execution_count": 9,
      "outputs": [
        {
          "output_type": "stream",
          "name": "stdout",
          "text": [
            "Informe o salário da 1ª pessoa: 1500\n",
            "Informe o número de filhos da 1ª pessoa: 1\n",
            "Informe o salário da 2ª pessoa: 3000\n",
            "Informe o número de filhos da 2ª pessoa: 1\n",
            "Informe o salário da 3ª pessoa: 220\n",
            "Informe o número de filhos da 3ª pessoa: 2\n",
            "Informe o salário da 4ª pessoa: 2200\n",
            "Informe o número de filhos da 4ª pessoa: 3\n",
            "Informe o salário da 5ª pessoa: 4000\n",
            "Informe o número de filhos da 5ª pessoa: 5\n",
            "Média do salário da população: R$2184.00\n",
            "Média do número de filhos: 2.40\n",
            "Maior salário: R$4000.00\n",
            "Percentual de pessoas com salário até R$2000,00: 40.00%\n"
          ]
        }
      ]
    },
    {
      "cell_type": "markdown",
      "source": [
        "3 - Chico tem 1,50 metro e cresce 2 centímetros por ano, enquanto Zé tem 1,10 metro e cresce 3 centímetros por ano. Construa um programa que calcule e imprima quantos anos serão necessários para que Zé seja maior que Chico."
      ],
      "metadata": {
        "id": "V-7kNtvtwDN1"
      }
    },
    {
      "cell_type": "code",
      "source": [
        "# Altura inicial de Chico e Zé.\n",
        "altura_chico = 1.50\n",
        "altura_ze = 1.10\n",
        "\n",
        "# Taxa de crescimento por ano\n",
        "crescimento_chico = 0.02\n",
        "crescimento_ze = 0.03\n",
        "\n",
        "# Inicialização do contador de anos\n",
        "anos = 0\n",
        "\n",
        "# Loop para calcular quantos anos serão necessários para Zé ser mais alto que Chico.\n",
        "# A condição de altura_ze <= altura_chico, o que significa que o loop continuará enquanto a altura de Zé for menor ou igual à altura de Chico.\n",
        "while altura_ze <= altura_chico:\n",
        "    # Incremento da altura de Chico e Zé\n",
        "    altura_chico += crescimento_chico\n",
        "    altura_ze += crescimento_ze\n",
        "\n",
        "    # Incremento do contador de anos\n",
        "    anos += 1\n",
        "\n",
        "# Impressão do resultado\n",
        "print(f\"Serão necessários {anos} anos para Zé ser mais alto que Chico.\")\n"
      ],
      "metadata": {
        "id": "Xlx4kqLpwE4L",
        "colab": {
          "base_uri": "https://localhost:8080/"
        },
        "outputId": "78c9f959-2cb9-42a9-d77f-d589c909a65c"
      },
      "execution_count": 11,
      "outputs": [
        {
          "output_type": "stream",
          "name": "stdout",
          "text": [
            "Serão necessários 41 anos para Zé ser mais alto que Chico.\n"
          ]
        }
      ]
    },
    {
      "cell_type": "markdown",
      "source": [
        "4 - Em uma eleição presidencial existem dois candidatos. Os votos são informados através de códigos. Os dados utilizados para a contagem dos votos obedecem à seguinte codificação:  \n",
        "\n",
        "1,2 = voto para os respectivos candidatos\n",
        "\n",
        "3 = voto nulo\n",
        "\n",
        "4 = voto em branco;\n",
        "\n",
        "Elabore um programa que leia o código de votação de 5 eleitores. Calcule e escreva:\n",
        "total de votos para cada candidato\n",
        "total de votos nulos\n",
        "total de votos em branco\n"
      ],
      "metadata": {
        "id": "BU7x-lumwGRO"
      }
    },
    {
      "cell_type": "code",
      "source": [
        "# Inicialização das variáveis para contar os votos.\n",
        "votos_candidato_1 = 0\n",
        "votos_candidato_2 = 0\n",
        "votos_nulos = 0\n",
        "votos_em_branco = 0\n",
        "\n",
        "# Loop para coletar os votos de 5 eleitores.\n",
        "# Solicitação de informações.\n",
        "for eleitor in range(5):\n",
        "    voto = int(input(f\"Eleitor {eleitor + 1}: Informe o voto (1 para Candidato 1, 2 para Candidato 2, 3 para Nulo, 4 para Branco): \"))\n",
        "\n",
        "    # Verificando o voto e incrementa o contador correspondente.\n",
        "    if voto == 1:\n",
        "        votos_candidato_1 += 1\n",
        "    elif voto == 2:\n",
        "        votos_candidato_2 += 1\n",
        "    elif voto == 3:\n",
        "        votos_nulos += 1\n",
        "    elif voto == 4:\n",
        "        votos_em_branco += 1\n",
        "    else:\n",
        "        print(\"Voto inválido.\")\n",
        "\n",
        "# Exibe os resultados\n",
        "print(\"Total de votos para o Candidato 1:\", votos_candidato_1)\n",
        "print(\"Total de votos para o Candidato 2:\", votos_candidato_2)\n",
        "print(\"Total de votos nulos:\", votos_nulos)\n",
        "print(\"Total de votos em branco:\", votos_em_branco)"
      ],
      "metadata": {
        "id": "tnOkAb44wQo5",
        "colab": {
          "base_uri": "https://localhost:8080/"
        },
        "outputId": "162f2818-5375-4e3f-bd65-f4944aa65dfb"
      },
      "execution_count": 12,
      "outputs": [
        {
          "output_type": "stream",
          "name": "stdout",
          "text": [
            "Eleitor 1: Informe o voto (1 para Candidato 1, 2 para Candidato 2, 3 para Nulo, 4 para Branco): 1\n",
            "Eleitor 2: Informe o voto (1 para Candidato 1, 2 para Candidato 2, 3 para Nulo, 4 para Branco): 3\n",
            "Eleitor 3: Informe o voto (1 para Candidato 1, 2 para Candidato 2, 3 para Nulo, 4 para Branco): 4\n",
            "Eleitor 4: Informe o voto (1 para Candidato 1, 2 para Candidato 2, 3 para Nulo, 4 para Branco): 1\n",
            "Eleitor 5: Informe o voto (1 para Candidato 1, 2 para Candidato 2, 3 para Nulo, 4 para Branco): 2\n",
            "Total de votos para o Candidato 1: 2\n",
            "Total de votos para o Candidato 2: 1\n",
            "Total de votos nulos: 1\n",
            "Total de votos em branco: 1\n"
          ]
        }
      ]
    },
    {
      "cell_type": "markdown",
      "source": [
        "5 - Escreva um programa que receba o nome de 10 pessoas e para cada pessoa, o lugar para o qual ela já viajou. Sendo que existem 3 possibilidades:\n",
        "\n",
        "Rio de Janeiro\n",
        "\n",
        "Bahia\n",
        "\n",
        "Minas Gerais\n",
        "\n",
        "Após, informar qual foi o destino mais visitado e qual o menos visitado.\n"
      ],
      "metadata": {
        "id": "oNyazyHPwzlo"
      }
    },
    {
      "cell_type": "markdown",
      "source": [
        "6 -  A série de Fibonacci é formada pela sequência 1,1,2,3,5,8,13,21,34,55,... Faça um programa capaz de gerar a série até o n−ésimo termo."
      ],
      "metadata": {
        "id": "HVJPsqTcw95-"
      }
    },
    {
      "cell_type": "code",
      "source": [
        "# Solicita ao usuário o valor de n\n",
        "n = int(input(\"Digite o valor de n para gerar a série de Fibonacci: \"))\n",
        "\n",
        "# Inicializa os primeiros dois termos da série de Fibonacci\n",
        "a, b = 1, 1\n",
        "\n",
        "# Loop para gerar os próximos termos da série e exibi-los\n",
        "for _ in range(n):\n",
        "    print(a)\n",
        "    a, b = b, a + b"
      ],
      "metadata": {
        "id": "ZwgmpSgGw-v3",
        "colab": {
          "base_uri": "https://localhost:8080/"
        },
        "outputId": "ceeed466-f31e-4a5b-dd3a-d60d1a2f5eb1"
      },
      "execution_count": 19,
      "outputs": [
        {
          "output_type": "stream",
          "name": "stdout",
          "text": [
            "Digite o valor de n para gerar a série de Fibonacci: 45\n",
            "1\n",
            "1\n",
            "2\n",
            "3\n",
            "5\n",
            "8\n",
            "13\n",
            "21\n",
            "34\n",
            "55\n",
            "89\n",
            "144\n",
            "233\n",
            "377\n",
            "610\n",
            "987\n",
            "1597\n",
            "2584\n",
            "4181\n",
            "6765\n",
            "10946\n",
            "17711\n",
            "28657\n",
            "46368\n",
            "75025\n",
            "121393\n",
            "196418\n",
            "317811\n",
            "514229\n",
            "832040\n",
            "1346269\n",
            "2178309\n",
            "3524578\n",
            "5702887\n",
            "9227465\n",
            "14930352\n",
            "24157817\n",
            "39088169\n",
            "63245986\n",
            "102334155\n",
            "165580141\n",
            "267914296\n",
            "433494437\n",
            "701408733\n",
            "1134903170\n"
          ]
        }
      ]
    },
    {
      "cell_type": "markdown",
      "source": [
        "7 - Escreva um programa que conte em ordem reversa, de 25 a zero."
      ],
      "metadata": {
        "id": "DaF7vXEWxB6R"
      }
    },
    {
      "cell_type": "code",
      "source": [
        "# Loop para contar em ordem reversa de 25 a 0.\n",
        "for i in range(25, -1, -1):\n",
        "    print(i)"
      ],
      "metadata": {
        "id": "2AYe_lX2xCdj",
        "colab": {
          "base_uri": "https://localhost:8080/"
        },
        "outputId": "a97fa07b-47f3-4ceb-a3de-26e3f747183a"
      },
      "execution_count": 24,
      "outputs": [
        {
          "output_type": "stream",
          "name": "stdout",
          "text": [
            "25\n",
            "24\n",
            "23\n",
            "22\n",
            "21\n",
            "20\n",
            "19\n",
            "18\n",
            "17\n",
            "16\n",
            "15\n",
            "14\n",
            "13\n",
            "12\n",
            "11\n",
            "10\n",
            "9\n",
            "8\n",
            "7\n",
            "6\n",
            "5\n",
            "4\n",
            "3\n",
            "2\n",
            "1\n",
            "0\n"
          ]
        }
      ]
    },
    {
      "cell_type": "markdown",
      "source": [
        "8 - Crie um programa para que retorne o somatório de todos os números entre 1 e um valor fornecido pelo usuário. Por exemplo, se o usuário fornecer o número 4, o computador deverá calcular o somatório 1+ 2 + 3 + 4 = 10."
      ],
      "metadata": {
        "id": "Oc2yjIGqxF3h"
      }
    },
    {
      "cell_type": "code",
      "source": [
        "# Solicita ao usuário um número inteiro positivo.\n",
        "numero = int(input(\"Digite um número inteiro positivo: \"))\n",
        "\n",
        "somatorio = 0\n",
        "\n",
        "# Loop para somar os números de 1 até o número fornecido pelo usuário.\n",
        "for i in range(1, numero + 1):\n",
        "    somatorio += i\n",
        "\n",
        "# Exibindo o somatório.\n",
        "print(\"O somatório de todos os números de 1 até\", numero, \"é:\", somatorio)\n"
      ],
      "metadata": {
        "id": "m5gfIfomxGwe",
        "colab": {
          "base_uri": "https://localhost:8080/"
        },
        "outputId": "baf465d1-fe31-4e0a-f27f-e6471a01e122"
      },
      "execution_count": 26,
      "outputs": [
        {
          "output_type": "stream",
          "name": "stdout",
          "text": [
            "Digite um número inteiro positivo: 15\n",
            "O somatório de todos os números de 1 até 15 é: 120\n"
          ]
        }
      ]
    },
    {
      "cell_type": "markdown",
      "source": [
        "9 - Escreva um programa que leia a idade e salário de 10 pessoas. Informe em seguida:\n",
        "Qual é a média de idade entre as pessoas?\n",
        "Quantas pessoas há por faixa etária, considerando:\n",
        "jovens < 18\n",
        "18 <= adultos < 60\n",
        "idosos >= 60\n",
        "Em seguida, mostre qual é a faixa etária que acumula o maior salário.\n"
      ],
      "metadata": {
        "id": "5D368hETyJQh"
      }
    },
    {
      "cell_type": "code",
      "source": [
        "idades = []\n",
        "salarios = []\n",
        "soma_idades = 0\n",
        "jovens = adultos = idosos = 0\n",
        "\n",
        "for _ in range(10):\n",
        "    idade = int(input(\"Digite a idade: \"))\n",
        "    idades.append(idade)\n",
        "    soma_idades += idade\n",
        "\n",
        "    salario = float(input(\"Digite o salário: \"))\n",
        "    salarios.append(salario)\n",
        "\n",
        "    if idade < 18:\n",
        "        jovens += 1\n",
        "    elif idade < 60:\n",
        "        adultos += 1\n",
        "    else:\n",
        "        idosos += 1\n",
        "\n",
        "media_idade = soma_idades / 10\n",
        "\n",
        "if jovens > adultos and jovens > idosos:\n",
        "    faixa_maior_salario = \"jovens\"\n",
        "elif adultos > jovens and adultos > idosos:\n",
        "    faixa_maior_salario = \"adultos\"\n",
        "else:\n",
        "    faixa_maior_salario = \"idosos\"\n",
        "\n",
        "print(f\"Média de idade: {media_idade}\")\n",
        "print(f\"Pessoas jovens: {jovens}\")\n",
        "print(f\"Pessoas adultos: {adultos}\")\n",
        "print(f\"Pessoas idosas: {idosos}\")\n",
        "print(f\"Faixa etária com maior salário: {faixa_maior_salario}\")"
      ],
      "metadata": {
        "id": "zZsS7JHm0UY6",
        "colab": {
          "base_uri": "https://localhost:8080/"
        },
        "outputId": "69783aa0-8d82-41f7-ad0c-b920d15f710b"
      },
      "execution_count": 27,
      "outputs": [
        {
          "output_type": "stream",
          "name": "stdout",
          "text": [
            "Digite a idade: 10\n",
            "Digite o salário: 0\n",
            "Digite a idade: 20\n",
            "Digite o salário: 2500\n",
            "Digite a idade: 35\n",
            "Digite o salário: 4000\n",
            "Digite a idade: 58\n",
            "Digite o salário: 10200\n",
            "Digite a idade: 45\n",
            "Digite o salário: 8000\n",
            "Digite a idade: 30\n",
            "Digite o salário: 3000\n",
            "Digite a idade: 22\n",
            "Digite o salário: 1200\n",
            "Digite a idade: 26\n",
            "Digite o salário: 12000\n",
            "Digite a idade: 60\n",
            "Digite o salário: 15000\n",
            "Digite a idade: 66\n",
            "Digite o salário: 4000\n",
            "Média de idade: 37.2\n",
            "Pessoas jovens: 1\n",
            "Pessoas adultos: 7\n",
            "Pessoas idosas: 2\n",
            "Faixa etária com maior salário: adultos\n"
          ]
        }
      ]
    },
    {
      "cell_type": "markdown",
      "source": [
        "10 - Crie uma calculadora simples que realiza operações de adição, subtração, multiplicação, divisão e exponenciação. O programa deve continuar pedindo operações até que o usuário escolha sair.\n"
      ],
      "metadata": {
        "id": "L4xlYJzdhZyV"
      }
    },
    {
      "cell_type": "code",
      "source": [
        "while True:\n",
        "    print(\"Selecione a operação:\")\n",
        "    print(\"1. Adição\")\n",
        "    print(\"2. Subtração\")\n",
        "    print(\"3. Multiplicação\")\n",
        "    print(\"4. Divisão\")\n",
        "    print(\"5. Exponenciação\")\n",
        "    print(\"6. Sair\")\n",
        "\n",
        "    opcao = input(\"Digite o número da operação desejada: \")\n",
        "\n",
        "    if opcao == '6':\n",
        "        print(\"Fim!\")\n",
        "        break\n",
        "\n",
        "    if opcao not in ['1', '2', '3', '4', '5']:\n",
        "        print(\"Opção inválida. Por favor, selecione uma operação válida.\")\n",
        "        continue\n",
        "\n",
        "    num1 = float(input(\"Digite o primeiro número: \"))\n",
        "    num2 = float(input(\"Digite o segundo número: \"))\n",
        "\n",
        "    if opcao == '1':\n",
        "        resultado = num1 + num2\n",
        "    elif opcao == '2':\n",
        "        resultado = num1 - num2\n",
        "    elif opcao == '3':\n",
        "        resultado = num1 * num2\n",
        "    elif opcao == '4':\n",
        "        if num2 == 0:\n",
        "            print(\"Erro! Não é possível dividir por zero.\")\n",
        "            continue\n",
        "        resultado = num1 / num2\n",
        "    elif opcao == '5':\n",
        "        resultado = num1 ** num2\n",
        "\n",
        "    print(\"Resultado:\", resultado)"
      ],
      "metadata": {
        "id": "t1GTUaOshazK",
        "colab": {
          "base_uri": "https://localhost:8080/"
        },
        "outputId": "d68abdca-26dc-41ec-f420-4faf69fba6a8"
      },
      "execution_count": 29,
      "outputs": [
        {
          "output_type": "stream",
          "name": "stdout",
          "text": [
            "Selecione a operação:\n",
            "1. Adição\n",
            "2. Subtração\n",
            "3. Multiplicação\n",
            "4. Divisão\n",
            "5. Exponenciação\n",
            "6. Sair\n",
            "Digite o número da operação desejada: 1\n",
            "Digite o primeiro número: 2\n",
            "Digite o segundo número: 3\n",
            "Resultado: 5.0\n",
            "Selecione a operação:\n",
            "1. Adição\n",
            "2. Subtração\n",
            "3. Multiplicação\n",
            "4. Divisão\n",
            "5. Exponenciação\n",
            "6. Sair\n",
            "Digite o número da operação desejada: 4\n",
            "Digite o primeiro número: 16\n",
            "Digite o segundo número: 333\n",
            "Resultado: 0.04804804804804805\n",
            "Selecione a operação:\n",
            "1. Adição\n",
            "2. Subtração\n",
            "3. Multiplicação\n",
            "4. Divisão\n",
            "5. Exponenciação\n",
            "6. Sair\n",
            "Digite o número da operação desejada: 6\n",
            "Fim!\n"
          ]
        }
      ]
    },
    {
      "cell_type": "markdown",
      "source": [
        "11 - Crie um jogo em que o computador escolha um número aleatório entre 1 e 100, e o jogador tenta adivinhá-lo. O programa deve dar dicas se o número é maior ou menor do que o número digitado pelo jogador. O jogo continua até que o jogador acerte o número."
      ],
      "metadata": {
        "id": "TvOVLvpYhohk"
      }
    },
    {
      "cell_type": "markdown",
      "source": [
        "Exemplo de saída:\n",
        "\n",
        "Bem-vindo ao jogo de adivinhação!\n",
        "\n",
        "Tente adivinhar o número entre 1 e 100.\n",
        "\n",
        "Digite sua tentativa: 50\n",
        "\n",
        "O número é menor.\n",
        "\n",
        "Digite sua tentativa: 75\n",
        "\n",
        "O número é maior.\n",
        "\n",
        "Digite sua tentativa: 63\n",
        "\n",
        "O número é menor.\n",
        "\n",
        "Digite sua tentativa: 68\n",
        "\n",
        "Parabéns! Você acertou o número 68 em 4 tentativas!"
      ],
      "metadata": {
        "id": "GMjNhBcxo3ks"
      }
    },
    {
      "cell_type": "code",
      "source": [
        "\n",
        "\n",
        "# Escolha aleatória do número\n",
        "numero_secreto = 92\n",
        "\n",
        "print(\"Bem-vindo ao jogo de adivinhação!\")\n",
        "print(\"Tente adivinhar o número entre 1 e 100.\")\n",
        "\n",
        "tentativas = 0\n",
        "\n",
        "while True:\n",
        "    tentativa = int(input(\"Digite sua tentativa: \"))\n",
        "    tentativas += 1\n",
        "\n",
        "    if tentativa == numero_secreto:\n",
        "        print(f\"Parabéns! Você acertou o número {numero_secreto} em {tentativas} tentativas!\")\n",
        "        break\n",
        "    elif tentativa < numero_secreto:\n",
        "        print(\"O número é maior.\")\n",
        "    else:\n",
        "        print(\"O número é menor.\")\n"
      ],
      "metadata": {
        "id": "wD7WVTzdh3Tf",
        "colab": {
          "base_uri": "https://localhost:8080/"
        },
        "outputId": "c97d5a36-5441-4a1b-d136-3de34b9bf094"
      },
      "execution_count": 33,
      "outputs": [
        {
          "output_type": "stream",
          "name": "stdout",
          "text": [
            "Bem-vindo ao jogo de adivinhação!\n",
            "Tente adivinhar o número entre 1 e 100.\n",
            "Digite sua tentativa: 12\n",
            "O número é maior.\n",
            "Digite sua tentativa: 25\n",
            "O número é maior.\n",
            "Digite sua tentativa: 25\n",
            "O número é maior.\n",
            "Digite sua tentativa: 100\n",
            "O número é menor.\n",
            "Digite sua tentativa: 99\n",
            "O número é menor.\n",
            "Digite sua tentativa: 89\n",
            "O número é maior.\n",
            "Digite sua tentativa: 91\n",
            "O número é maior.\n",
            "Digite sua tentativa: 92\n",
            "Parabéns! Você acertou o número 92 em 8 tentativas!\n"
          ]
        }
      ]
    },
    {
      "cell_type": "markdown",
      "source": [
        "12 - Escreva um programa que calcula o valor de um investimento após um número específico de anos, considerando juros compostos. O usuário deve fornecer o principal (valor inicial do investimento), a taxa de juros anual (em porcentagem) e o número de anos.\n",
        "\n",
        "A fórmula para calcular o valor de um investimento após n anos com juros compostos é:\n",
        "\n",
        "A=P×(1+r)^n\n",
        "\n",
        "\n",
        "Onde:\n",
        "\n",
        "\n",
        "A é o valor do investimento após n anos,\n",
        "\n",
        "P é o principal (valor inicial do investimento),\n",
        "\n",
        "r é a taxa de juros anual (em decimal), e\n",
        "\n",
        "n é o número de anos."
      ],
      "metadata": {
        "id": "528JJZodmafY"
      }
    },
    {
      "cell_type": "markdown",
      "source": [
        "\n",
        "Exemplo de saída:\n",
        "\n",
        "Digite o principal (R$): 1000\n",
        "\n",
        "Digite a taxa de juros anual (%): 5\n",
        "\n",
        "Digite o número de anos: 10\n",
        "\n",
        "O valor do investimento após 10 anos é: R$ 1628.89"
      ],
      "metadata": {
        "id": "-6opTpcXoxNw"
      }
    },
    {
      "cell_type": "code",
      "source": [
        "# Solicitando ao usuário as informações do investimento\n",
        "principal = float(input(\"Digite o o valor de investimento (R$): \"))\n",
        "taxa_juros_anual = float(input(\"Digite a taxa de juros anual (%): \"))\n",
        "anos = int(input(\"Digite o número de anos: \"))\n",
        "\n",
        "# Convertendo a taxa de juros para decimal\n",
        "taxa_juros_decimal = taxa_juros_anual / 100\n",
        "\n",
        "# Calculando o valor do investimento após o número de anos especificado\n",
        "valor_investimento = principal * (1 + taxa_juros_decimal) ** anos\n",
        "\n",
        "# Exibindo o resultado\n",
        "print(f\"O valor do investimento após {anos} anos é: R$ {valor_investimento:.2f}\")"
      ],
      "metadata": {
        "id": "3XHAThk1oFIT",
        "colab": {
          "base_uri": "https://localhost:8080/"
        },
        "outputId": "fccf4227-3c70-4525-cd0b-a014c53f27db"
      },
      "execution_count": 36,
      "outputs": [
        {
          "output_type": "stream",
          "name": "stdout",
          "text": [
            "Digite o o valor de investimento (R$): 15000\n",
            "Digite a taxa de juros anual (%): 13\n",
            "Digite o número de anos: 5\n",
            "O valor do investimento após 5 anos é: R$ 27636.53\n"
          ]
        }
      ]
    }
  ]
}